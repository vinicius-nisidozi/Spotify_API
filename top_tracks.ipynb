{
 "cells": [
  {
   "cell_type": "code",
   "execution_count": 1,
   "metadata": {},
   "outputs": [],
   "source": [
    "from dotenv import load_dotenv\n",
    "import os\n",
    "import base64\n",
    "from requests import post, get\n",
    "import json"
   ]
  },
  {
   "cell_type": "code",
   "execution_count": 2,
   "metadata": {},
   "outputs": [],
   "source": [
    "# Get the env data\n",
    "load_dotenv()\n",
    "client_id = os.getenv(\"CLIENT_ID\")\n",
    "client_secret = os.getenv(\"CLIENT_SECRET\")\n",
    "\n",
    "# Returns a token to give the access to the API\n",
    "def get_token():\n",
    "    auth_string = client_id + \":\" + client_secret\n",
    "    auth_bytes  =auth_string.encode(\"utf-8\")\n",
    "    auth_base64 = str(base64.b64encode(auth_bytes),\"utf-8\")\n",
    "\n",
    "    url = \"https://accounts.spotify.com/api/token\"\n",
    "    headers = {\n",
    "        \"Authorization\":\"Basic \" + auth_base64,\n",
    "        \"Content-Type\":\"application/x-www-form-urlencoded\"\n",
    "    }\n",
    "    data = {\"grant_type\":\"client_credentials\"}\n",
    "    result = post(url, headers=headers, data=data)\n",
    "    json_result = json.loads(result.content)\n",
    "    token = json_result[\"access_token\"]\n",
    "    return token\n",
    "\n",
    "# Returns a authorization header\n",
    "def get_auth_header(token):\n",
    "    return {\"Authorization\": \"Bearer \" + token}\n",
    "\n",
    "# Get artist data from Spotify API\n",
    "def serch_for_artists(token, artist_name):\n",
    "    url = \"https://api.spotify.com/v1/search\"\n",
    "    headers = get_auth_header(token)\n",
    "    # 'type' is what a type of data you're searching for, limit set the amount of results\n",
    "    query = f\"?q={artist_name}&type=artist&limit=1\"\n",
    "    query_url = url + query\n",
    "    result = get(query_url, headers=headers)\n",
    "    json_result = json.loads(result.content)[\"artists\"][\"items\"]\n",
    "    if len(json_result) == 0:\n",
    "        print(\"No artist found\")\n",
    "        return None\n",
    "    \n",
    "    return json_result\n",
    "\n",
    "def get_songs_by_artist(token, artist_id):\n",
    "    url=f\"https://api.spotify.com/v1/artists/{artist_id}/top-tracks?country=US\"\n",
    "    headers = get_auth_header(token)\n",
    "    result = get(url, headers=headers)\n",
    "    json_result = json.loads(result.content)[\"tracks\"]\n",
    "    return json_result"
   ]
  },
  {
   "cell_type": "code",
   "execution_count": 8,
   "metadata": {},
   "outputs": [
    {
     "name": "stdout",
     "output_type": "stream",
     "text": [
      "Dragon Force Top tracks:\n",
      "1. Through the Fire and Flames\n",
      "2. Fury Of The Storm\n",
      "3. Soldiers of the Wastelands\n",
      "4. Cry Thunder\n",
      "5. Heroes of Our Time\n",
      "6. My Heart Will Go On\n",
      "7. Ashes of the Dawn\n",
      "8. Valley of the Damned - 2010 Remastered Edition\n",
      "9. Highway to Oblivion\n",
      "10. Operation Ground and Pound\n"
     ]
    }
   ],
   "source": [
    "token = get_token()\n",
    "\n",
    "# Collect artist data\n",
    "artist_name = \"Dragon Force\"\n",
    "result = serch_for_artists(token, artist_name)\n",
    "artist_id = result[0][\"id\"]\n",
    "\n",
    "# Returns the artist top tracks\n",
    "songs = get_songs_by_artist(token, artist_id)\n",
    "print(f\"{artist_name} Top tracks:\")\n",
    "for item, song in enumerate(songs):\n",
    "    print(f\"{item+1}. {song['name']}\")"
   ]
  },
  {
   "cell_type": "code",
   "execution_count": 16,
   "metadata": {},
   "outputs": [
    {
     "name": "stdout",
     "output_type": "stream",
     "text": [
      "{'external_urls': {'spotify': 'https://open.spotify.com/artist/2pH3wEn4eYlMMIIQyKPbVR'}, 'followers': {'href': None, 'total': 968823}, 'genres': ['british power metal', 'fantasy metal', 'metal', 'power metal', 'speed metal'], 'href': 'https://api.spotify.com/v1/artists/2pH3wEn4eYlMMIIQyKPbVR', 'id': '2pH3wEn4eYlMMIIQyKPbVR', 'images': [{'height': 640, 'url': 'https://i.scdn.co/image/ab6761610000e5ebcb17f42e277e3bb8f49d3c7c', 'width': 640}, {'height': 320, 'url': 'https://i.scdn.co/image/ab67616100005174cb17f42e277e3bb8f49d3c7c', 'width': 320}, {'height': 160, 'url': 'https://i.scdn.co/image/ab6761610000f178cb17f42e277e3bb8f49d3c7c', 'width': 160}], 'name': 'DragonForce', 'popularity': 58, 'type': 'artist', 'uri': 'spotify:artist:2pH3wEn4eYlMMIIQyKPbVR'}\n"
     ]
    }
   ],
   "source": [
    "print(result[0])"
   ]
  },
  {
   "cell_type": "code",
   "execution_count": 20,
   "metadata": {},
   "outputs": [
    {
     "name": "stdout",
     "output_type": "stream",
     "text": [
      "Followers: 968823\n",
      "Genres: ['british power metal', 'fantasy metal', 'metal', 'power metal', 'speed metal']\n",
      "Popularity (0-100): 58\n"
     ]
    }
   ],
   "source": [
    "print(\"Followers:\",result[0][\"followers\"][\"total\"])\n",
    "print(\"Genres:\",result[0][\"genres\"])\n",
    "print(\"Popularity (0-100):\",result[0][\"popularity\"])"
   ]
  },
  {
   "cell_type": "code",
   "execution_count": null,
   "metadata": {},
   "outputs": [],
   "source": []
  }
 ],
 "metadata": {
  "kernelspec": {
   "display_name": "Python 3",
   "language": "python",
   "name": "python3"
  },
  "language_info": {
   "codemirror_mode": {
    "name": "ipython",
    "version": 3
   },
   "file_extension": ".py",
   "mimetype": "text/x-python",
   "name": "python",
   "nbconvert_exporter": "python",
   "pygments_lexer": "ipython3",
   "version": "3.10.11"
  },
  "orig_nbformat": 4,
  "vscode": {
   "interpreter": {
    "hash": "af905c2714519b528cc2ec495f6f5f138a7959fe7eb5c81a7c77ca41f612dc2e"
   }
  }
 },
 "nbformat": 4,
 "nbformat_minor": 2
}
